{
  "cells": [
    {
      "cell_type": "markdown",
      "metadata": {
        "id": "dKvV778oLU36"
      },
      "source": [
        "# Exploring and Processing the Data"
      ]
    },
    {
      "cell_type": "code",
      "execution_count": null,
      "metadata": {
        "id": "_KOfVS1DLU37"
      },
      "outputs": [],
      "source": [
        "import pandas as pd"
      ]
    },
    {
      "cell_type": "code",
      "execution_count": null,
      "metadata": {
        "id": "r19tiSEzLU38"
      },
      "outputs": [],
      "source": [
        "df = pd.read_csv('./../../../../Dropbox/__WSU_courses/BSAN734/house-prices-example.csv')\n",
        "df = df.iloc[:,1:] #remove former index column because irrelevant noise"
      ]
    },
    {
      "cell_type": "code",
      "execution_count": null,
      "metadata": {
        "id": "Eu8cLSNMLU39",
        "outputId": "6e613994-0ac0-41cb-d624-1d832005af42"
      },
      "outputs": [
        {
          "data": {
            "text/html": [
              "<div>\n",
              "<style scoped>\n",
              "    .dataframe tbody tr th:only-of-type {\n",
              "        vertical-align: middle;\n",
              "    }\n",
              "\n",
              "    .dataframe tbody tr th {\n",
              "        vertical-align: top;\n",
              "    }\n",
              "\n",
              "    .dataframe thead th {\n",
              "        text-align: right;\n",
              "    }\n",
              "</style>\n",
              "<table border=\"1\" class=\"dataframe\">\n",
              "  <thead>\n",
              "    <tr style=\"text-align: right;\">\n",
              "      <th></th>\n",
              "      <th>lotsizesquarefeet</th>\n",
              "      <th>buildingqualitytypeid</th>\n",
              "      <th>calculatedbathnbr</th>\n",
              "      <th>bathroomcnt</th>\n",
              "      <th>bedroomcnt</th>\n",
              "      <th>regionidcity</th>\n",
              "      <th>regionidneighborhood</th>\n",
              "      <th>regionidzip</th>\n",
              "      <th>yearbuilt</th>\n",
              "      <th>roomcnt</th>\n",
              "      <th>lotsizesquarefeet.1</th>\n",
              "      <th>calculatedfinishedsquarefeet</th>\n",
              "      <th>structuretaxvaluedollarcnt</th>\n",
              "    </tr>\n",
              "  </thead>\n",
              "  <tbody>\n",
              "    <tr>\n",
              "      <th>0</th>\n",
              "      <td>40247.0</td>\n",
              "      <td>7.0</td>\n",
              "      <td>2.0</td>\n",
              "      <td>2.0</td>\n",
              "      <td>2.0</td>\n",
              "      <td>12447.0</td>\n",
              "      <td>13327.0</td>\n",
              "      <td>96072.0</td>\n",
              "      <td>2004.0</td>\n",
              "      <td>0.0</td>\n",
              "      <td>40247.0</td>\n",
              "      <td>1090.0</td>\n",
              "      <td>232897.0</td>\n",
              "    </tr>\n",
              "    <tr>\n",
              "      <th>1</th>\n",
              "      <td>5420.0</td>\n",
              "      <td>4.0</td>\n",
              "      <td>2.0</td>\n",
              "      <td>2.0</td>\n",
              "      <td>4.0</td>\n",
              "      <td>12447.0</td>\n",
              "      <td>268496.0</td>\n",
              "      <td>96018.0</td>\n",
              "      <td>1957.0</td>\n",
              "      <td>0.0</td>\n",
              "      <td>5420.0</td>\n",
              "      <td>1931.0</td>\n",
              "      <td>124789.0</td>\n",
              "    </tr>\n",
              "    <tr>\n",
              "      <th>2</th>\n",
              "      <td>9085.0</td>\n",
              "      <td>8.0</td>\n",
              "      <td>2.0</td>\n",
              "      <td>2.0</td>\n",
              "      <td>3.0</td>\n",
              "      <td>12447.0</td>\n",
              "      <td>268588.0</td>\n",
              "      <td>96339.0</td>\n",
              "      <td>1962.0</td>\n",
              "      <td>0.0</td>\n",
              "      <td>9085.0</td>\n",
              "      <td>1766.0</td>\n",
              "      <td>120205.0</td>\n",
              "    </tr>\n",
              "    <tr>\n",
              "      <th>3</th>\n",
              "      <td>34845.0</td>\n",
              "      <td>9.0</td>\n",
              "      <td>3.0</td>\n",
              "      <td>3.0</td>\n",
              "      <td>5.0</td>\n",
              "      <td>12447.0</td>\n",
              "      <td>268588.0</td>\n",
              "      <td>96339.0</td>\n",
              "      <td>1995.0</td>\n",
              "      <td>0.0</td>\n",
              "      <td>34845.0</td>\n",
              "      <td>3085.0</td>\n",
              "      <td>378688.0</td>\n",
              "    </tr>\n",
              "    <tr>\n",
              "      <th>4</th>\n",
              "      <td>11009.0</td>\n",
              "      <td>8.0</td>\n",
              "      <td>3.0</td>\n",
              "      <td>3.0</td>\n",
              "      <td>5.0</td>\n",
              "      <td>12447.0</td>\n",
              "      <td>268588.0</td>\n",
              "      <td>96339.0</td>\n",
              "      <td>1965.0</td>\n",
              "      <td>0.0</td>\n",
              "      <td>11009.0</td>\n",
              "      <td>2401.0</td>\n",
              "      <td>162046.0</td>\n",
              "    </tr>\n",
              "    <tr>\n",
              "      <th>5</th>\n",
              "      <td>12910.0</td>\n",
              "      <td>7.0</td>\n",
              "      <td>3.0</td>\n",
              "      <td>3.0</td>\n",
              "      <td>4.0</td>\n",
              "      <td>12447.0</td>\n",
              "      <td>268588.0</td>\n",
              "      <td>96339.0</td>\n",
              "      <td>1984.0</td>\n",
              "      <td>0.0</td>\n",
              "      <td>12910.0</td>\n",
              "      <td>2397.0</td>\n",
              "      <td>274403.0</td>\n",
              "    </tr>\n",
              "    <tr>\n",
              "      <th>6</th>\n",
              "      <td>10095.0</td>\n",
              "      <td>7.0</td>\n",
              "      <td>3.0</td>\n",
              "      <td>3.0</td>\n",
              "      <td>4.0</td>\n",
              "      <td>12447.0</td>\n",
              "      <td>268588.0</td>\n",
              "      <td>96339.0</td>\n",
              "      <td>1981.0</td>\n",
              "      <td>0.0</td>\n",
              "      <td>10095.0</td>\n",
              "      <td>2574.0</td>\n",
              "      <td>239616.0</td>\n",
              "    </tr>\n",
              "    <tr>\n",
              "      <th>7</th>\n",
              "      <td>11119.0</td>\n",
              "      <td>8.0</td>\n",
              "      <td>3.0</td>\n",
              "      <td>3.0</td>\n",
              "      <td>4.0</td>\n",
              "      <td>12447.0</td>\n",
              "      <td>268588.0</td>\n",
              "      <td>96339.0</td>\n",
              "      <td>1965.0</td>\n",
              "      <td>0.0</td>\n",
              "      <td>11119.0</td>\n",
              "      <td>2225.0</td>\n",
              "      <td>208572.0</td>\n",
              "    </tr>\n",
              "    <tr>\n",
              "      <th>8</th>\n",
              "      <td>9787.0</td>\n",
              "      <td>7.0</td>\n",
              "      <td>3.0</td>\n",
              "      <td>3.0</td>\n",
              "      <td>4.0</td>\n",
              "      <td>12447.0</td>\n",
              "      <td>268588.0</td>\n",
              "      <td>96339.0</td>\n",
              "      <td>1983.0</td>\n",
              "      <td>0.0</td>\n",
              "      <td>9787.0</td>\n",
              "      <td>2661.0</td>\n",
              "      <td>258245.0</td>\n",
              "    </tr>\n",
              "    <tr>\n",
              "      <th>9</th>\n",
              "      <td>8280.0</td>\n",
              "      <td>6.0</td>\n",
              "      <td>3.0</td>\n",
              "      <td>3.0</td>\n",
              "      <td>4.0</td>\n",
              "      <td>12447.0</td>\n",
              "      <td>268588.0</td>\n",
              "      <td>96342.0</td>\n",
              "      <td>1960.0</td>\n",
              "      <td>0.0</td>\n",
              "      <td>8280.0</td>\n",
              "      <td>1830.0</td>\n",
              "      <td>132311.0</td>\n",
              "    </tr>\n",
              "  </tbody>\n",
              "</table>\n",
              "</div>"
            ],
            "text/plain": [
              "   lotsizesquarefeet  buildingqualitytypeid  calculatedbathnbr  bathroomcnt  \\\n",
              "0            40247.0                    7.0                2.0          2.0   \n",
              "1             5420.0                    4.0                2.0          2.0   \n",
              "2             9085.0                    8.0                2.0          2.0   \n",
              "3            34845.0                    9.0                3.0          3.0   \n",
              "4            11009.0                    8.0                3.0          3.0   \n",
              "5            12910.0                    7.0                3.0          3.0   \n",
              "6            10095.0                    7.0                3.0          3.0   \n",
              "7            11119.0                    8.0                3.0          3.0   \n",
              "8             9787.0                    7.0                3.0          3.0   \n",
              "9             8280.0                    6.0                3.0          3.0   \n",
              "\n",
              "   bedroomcnt  regionidcity  regionidneighborhood  regionidzip  yearbuilt  \\\n",
              "0         2.0       12447.0               13327.0      96072.0     2004.0   \n",
              "1         4.0       12447.0              268496.0      96018.0     1957.0   \n",
              "2         3.0       12447.0              268588.0      96339.0     1962.0   \n",
              "3         5.0       12447.0              268588.0      96339.0     1995.0   \n",
              "4         5.0       12447.0              268588.0      96339.0     1965.0   \n",
              "5         4.0       12447.0              268588.0      96339.0     1984.0   \n",
              "6         4.0       12447.0              268588.0      96339.0     1981.0   \n",
              "7         4.0       12447.0              268588.0      96339.0     1965.0   \n",
              "8         4.0       12447.0              268588.0      96339.0     1983.0   \n",
              "9         4.0       12447.0              268588.0      96342.0     1960.0   \n",
              "\n",
              "   roomcnt  lotsizesquarefeet.1  calculatedfinishedsquarefeet  \\\n",
              "0      0.0              40247.0                        1090.0   \n",
              "1      0.0               5420.0                        1931.0   \n",
              "2      0.0               9085.0                        1766.0   \n",
              "3      0.0              34845.0                        3085.0   \n",
              "4      0.0              11009.0                        2401.0   \n",
              "5      0.0              12910.0                        2397.0   \n",
              "6      0.0              10095.0                        2574.0   \n",
              "7      0.0              11119.0                        2225.0   \n",
              "8      0.0               9787.0                        2661.0   \n",
              "9      0.0               8280.0                        1830.0   \n",
              "\n",
              "   structuretaxvaluedollarcnt  \n",
              "0                    232897.0  \n",
              "1                    124789.0  \n",
              "2                    120205.0  \n",
              "3                    378688.0  \n",
              "4                    162046.0  \n",
              "5                    274403.0  \n",
              "6                    239616.0  \n",
              "7                    208572.0  \n",
              "8                    258245.0  \n",
              "9                    132311.0  "
            ]
          },
          "execution_count": 42,
          "metadata": {},
          "output_type": "execute_result"
        }
      ],
      "source": [
        "df.head(10)"
      ]
    },
    {
      "cell_type": "code",
      "execution_count": null,
      "metadata": {
        "id": "u9iEbVTaLU3-"
      },
      "outputs": [],
      "source": [
        "dataset = df.values"
      ]
    },
    {
      "cell_type": "code",
      "execution_count": null,
      "metadata": {
        "id": "5qQAFfUQLU3-",
        "outputId": "305f1440-73f6-430c-8440-7b3bea9ddd9d"
      },
      "outputs": [
        {
          "data": {
            "text/plain": [
              "array([[4.02470e+04, 7.00000e+00, 2.00000e+00, ..., 4.02470e+04,\n",
              "        1.09000e+03, 2.32897e+05],\n",
              "       [5.42000e+03, 4.00000e+00, 2.00000e+00, ..., 5.42000e+03,\n",
              "        1.93100e+03, 1.24789e+05],\n",
              "       [9.08500e+03, 8.00000e+00, 2.00000e+00, ..., 9.08500e+03,\n",
              "        1.76600e+03, 1.20205e+05],\n",
              "       ...,\n",
              "       [4.65600e+03, 4.00000e+00, 2.00000e+00, ..., 4.65600e+03,\n",
              "        1.11400e+03, 6.82760e+04],\n",
              "       [4.84000e+03, 4.00000e+00, 2.00000e+00, ..., 4.84000e+03,\n",
              "        1.43600e+03, 9.51010e+04],\n",
              "       [4.07900e+03, 6.00000e+00, 2.00000e+00, ..., 4.07900e+03,\n",
              "        1.27000e+03, 6.36380e+04]])"
            ]
          },
          "execution_count": 46,
          "metadata": {},
          "output_type": "execute_result"
        }
      ],
      "source": [
        "dataset"
      ]
    },
    {
      "cell_type": "code",
      "execution_count": null,
      "metadata": {
        "id": "Rj6nmEHaLU3_"
      },
      "outputs": [],
      "source": [
        "X = dataset[:,0:12]\n",
        "Y = dataset[:,12]"
      ]
    },
    {
      "cell_type": "code",
      "execution_count": null,
      "metadata": {
        "id": "tN2Ca2VWLU3_",
        "outputId": "9a12497a-4e60-46bf-97d8-34a9de838dc0"
      },
      "outputs": [
        {
          "data": {
            "text/plain": [
              "(904287, 12)"
            ]
          },
          "execution_count": 48,
          "metadata": {},
          "output_type": "execute_result"
        }
      ],
      "source": [
        "X.shape"
      ]
    },
    {
      "cell_type": "code",
      "execution_count": null,
      "metadata": {
        "id": "rq2PvPETLU3_",
        "outputId": "d5baa464-e102-4bd0-fdb7-4f6930f648e6"
      },
      "outputs": [
        {
          "data": {
            "text/plain": [
              "(904287,)"
            ]
          },
          "execution_count": 49,
          "metadata": {},
          "output_type": "execute_result"
        }
      ],
      "source": [
        "Y.shape"
      ]
    },
    {
      "cell_type": "code",
      "execution_count": null,
      "metadata": {
        "id": "5kAqA1n1LU3_",
        "outputId": "7ab0a42c-b3e8-4c75-865b-5d86e8d9fa97"
      },
      "outputs": [
        {
          "name": "stdout",
          "output_type": "stream",
          "text": [
            "Requirement already satisfied: sklearn in /usr/local/lib/python3.9/site-packages (0.0)\n",
            "Requirement already satisfied: scikit-learn in /usr/local/lib/python3.9/site-packages (from sklearn) (0.24.1)\n",
            "Requirement already satisfied: numpy>=1.13.3 in /usr/local/lib/python3.9/site-packages (from scikit-learn->sklearn) (1.20.2)\n",
            "Requirement already satisfied: threadpoolctl>=2.0.0 in /usr/local/lib/python3.9/site-packages (from scikit-learn->sklearn) (2.1.0)\n",
            "Requirement already satisfied: joblib>=0.11 in /usr/local/lib/python3.9/site-packages (from scikit-learn->sklearn) (1.0.1)\n",
            "Requirement already satisfied: scipy>=0.19.1 in /usr/local/lib/python3.9/site-packages (from scikit-learn->sklearn) (1.6.2)\n",
            "\u001b[33mWARNING: You are using pip version 21.0.1; however, version 21.3.1 is available.\n",
            "You should consider upgrading via the '/usr/local/opt/python@3.9/bin/python3.9 -m pip install --upgrade pip' command.\u001b[0m\n"
          ]
        }
      ],
      "source": [
        "#!conda install sklearn\n",
        "!pip3 install sklearn"
      ]
    },
    {
      "cell_type": "code",
      "execution_count": null,
      "metadata": {
        "id": "Mil7IjC4LU3_"
      },
      "outputs": [],
      "source": [
        "from sklearn import preprocessing"
      ]
    },
    {
      "cell_type": "code",
      "execution_count": null,
      "metadata": {
        "id": "0pRi7DuaLU3_"
      },
      "outputs": [],
      "source": [
        "min_max_scaler = preprocessing.MinMaxScaler()\n",
        "X_scale = min_max_scaler.fit_transform(X)"
      ]
    },
    {
      "cell_type": "code",
      "execution_count": null,
      "metadata": {
        "id": "oTobPF9gLU4A",
        "outputId": "99611ce8-5c12-4961-c8b1-a124b480878d"
      },
      "outputs": [
        {
          "data": {
            "text/plain": [
              "array([[6.09901968e-03, 5.45454545e-01, 5.26315789e-02, ...,\n",
              "        0.00000000e+00, 6.09901968e-03, 1.83893683e-02],\n",
              "       [8.02394530e-04, 2.72727273e-01, 5.26315789e-02, ...,\n",
              "        0.00000000e+00, 8.02394530e-04, 3.25908914e-02],\n",
              "       [1.35978194e-03, 6.36363636e-01, 5.26315789e-02, ...,\n",
              "        0.00000000e+00, 1.35978194e-03, 2.98046235e-02],\n",
              "       ...,\n",
              "       [6.86202449e-04, 2.72727273e-01, 5.26315789e-02, ...,\n",
              "        0.00000000e+00, 6.86202449e-04, 1.87946436e-02],\n",
              "       [7.14185882e-04, 2.72727273e-01, 5.26315789e-02, ...,\n",
              "        0.00000000e+00, 7.14185882e-04, 2.42320877e-02],\n",
              "       [5.98450052e-04, 4.54545455e-01, 5.26315789e-02, ...,\n",
              "        0.00000000e+00, 5.98450052e-04, 2.14289333e-02]])"
            ]
          },
          "execution_count": 53,
          "metadata": {},
          "output_type": "execute_result"
        }
      ],
      "source": [
        "X_scale"
      ]
    },
    {
      "cell_type": "code",
      "execution_count": null,
      "metadata": {
        "id": "axtFPJabLU4A"
      },
      "outputs": [],
      "source": [
        "from sklearn.model_selection import train_test_split"
      ]
    },
    {
      "cell_type": "markdown",
      "metadata": {
        "id": "azD-2sgYLU4A"
      },
      "source": [
        "First, we split the training data. The remaining 30% of the data is used for testing and validation."
      ]
    },
    {
      "cell_type": "code",
      "execution_count": null,
      "metadata": {
        "id": "4FF3sd8jLU4A"
      },
      "outputs": [],
      "source": [
        "X_train, X_val_and_test, Y_train, Y_val_and_test = train_test_split(X_scale, Y, test_size=0.3)"
      ]
    },
    {
      "cell_type": "code",
      "execution_count": null,
      "metadata": {
        "id": "aEU0nf4hLU4A"
      },
      "outputs": [],
      "source": [
        "X_val, X_test, Y_val, Y_test = train_test_split(X_val_and_test, Y_val_and_test, test_size=0.5)"
      ]
    },
    {
      "cell_type": "code",
      "execution_count": null,
      "metadata": {
        "id": "AwW4hd2aLU4A",
        "outputId": "b08cb10b-11ed-4fed-cdb8-ef1714a7a5ff"
      },
      "outputs": [
        {
          "name": "stdout",
          "output_type": "stream",
          "text": [
            "(633000, 12) (135643, 12) (135644, 12) (633000,) (135643,) (135644,)\n"
          ]
        }
      ],
      "source": [
        "print(X_train.shape, X_val.shape, X_test.shape, Y_train.shape, Y_val.shape, Y_test.shape)"
      ]
    },
    {
      "cell_type": "code",
      "execution_count": null,
      "metadata": {
        "id": "irk59zj8LU4A",
        "outputId": "eec1d832-360a-45ee-da5c-51b102a64771"
      },
      "outputs": [
        {
          "name": "stdout",
          "output_type": "stream",
          "text": [
            "Requirement already satisfied: tensorflow in /usr/local/lib/python3.9/site-packages (1.12.0)\n",
            "Requirement already satisfied: six>=1.10.0 in /usr/local/lib/python3.9/site-packages (from tensorflow) (1.15.0)\n",
            "Requirement already satisfied: grpcio>=1.8.6 in /usr/local/lib/python3.9/site-packages (from tensorflow) (1.36.1)\n",
            "Requirement already satisfied: tensorboard<1.13.0,>=1.12.0 in /usr/local/lib/python3.9/site-packages (from tensorflow) (1.12.2)\n",
            "Requirement already satisfied: termcolor>=1.1.0 in /usr/local/lib/python3.9/site-packages (from tensorflow) (1.1.0)\n",
            "Requirement already satisfied: keras-preprocessing>=1.0.5 in /usr/local/lib/python3.9/site-packages (from tensorflow) (1.1.2)\n",
            "Requirement already satisfied: absl-py>=0.1.6 in /usr/local/lib/python3.9/site-packages (from tensorflow) (0.12.0)\n",
            "Requirement already satisfied: keras-applications>=1.0.6 in /usr/local/lib/python3.9/site-packages (from tensorflow) (1.0.8)\n",
            "Requirement already satisfied: wheel>=0.26 in /usr/local/lib/python3.9/site-packages (from tensorflow) (0.36.2)\n",
            "Requirement already satisfied: astor>=0.6.0 in /usr/local/lib/python3.9/site-packages (from tensorflow) (0.8.1)\n",
            "Requirement already satisfied: numpy>=1.13.3 in /usr/local/lib/python3.9/site-packages (from tensorflow) (1.20.2)\n",
            "Requirement already satisfied: protobuf>=3.6.1 in /usr/local/lib/python3.9/site-packages (from tensorflow) (3.15.6)\n",
            "Requirement already satisfied: gast>=0.2.0 in /usr/local/lib/python3.9/site-packages (from tensorflow) (0.4.0)\n",
            "Requirement already satisfied: h5py in /usr/local/lib/python3.9/site-packages (from keras-applications>=1.0.6->tensorflow) (3.2.1)\n",
            "Requirement already satisfied: markdown>=2.6.8 in /usr/local/lib/python3.9/site-packages (from tensorboard<1.13.0,>=1.12.0->tensorflow) (3.3.4)\n",
            "Requirement already satisfied: werkzeug>=0.11.10 in /usr/local/lib/python3.9/site-packages (from tensorboard<1.13.0,>=1.12.0->tensorflow) (1.0.1)\n",
            "\u001b[33mWARNING: You are using pip version 21.0.1; however, version 21.3.1 is available.\n",
            "You should consider upgrading via the '/usr/local/opt/python@3.9/bin/python3.9 -m pip install --upgrade pip' command.\u001b[0m\n"
          ]
        }
      ],
      "source": [
        "#!conda install tensorflow\n",
        "!pip3 install tensorflow"
      ]
    },
    {
      "cell_type": "code",
      "execution_count": null,
      "metadata": {
        "id": "lp1jnMAoLU4A"
      },
      "outputs": [],
      "source": [
        "from tensorflow import keras"
      ]
    },
    {
      "cell_type": "code",
      "execution_count": null,
      "metadata": {
        "id": "YHlcvIOZLU4B"
      },
      "outputs": [],
      "source": [
        "model = keras.models.Sequential([\n",
        "    keras.layers.Dense(12, activation='relu', input_shape=(12,)),\n",
        "    keras.layers.Dense(128, activation='relu'),\n",
        "    keras.layers.Dense(1, activation='linear'),\n",
        "])"
      ]
    },
    {
      "cell_type": "code",
      "execution_count": null,
      "metadata": {
        "id": "fqEryJjjLU4B"
      },
      "outputs": [],
      "source": [
        "model.compile(loss='mse', optimizer='adam', metrics=['mse','mae'])"
      ]
    },
    {
      "cell_type": "code",
      "execution_count": null,
      "metadata": {
        "scrolled": false,
        "id": "APo8AbRlLU4B",
        "outputId": "5c37629a-63a5-45d4-ae2f-a5850bf24bf8"
      },
      "outputs": [
        {
          "name": "stdout",
          "output_type": "stream",
          "text": [
            "Train on 633000 samples, validate on 135643 samples\n",
            "Epoch 1/30\n",
            "633000/633000 [==============================] - 6s 9us/step - loss: 48224012504.7968 - mean_squared_error: 48224012504.7968 - mean_absolute_error: 118511.7762 - val_loss: 35101955564.1116 - val_mean_squared_error: 35101955564.1116 - val_mean_absolute_error: 98273.8465\n",
            "Epoch 2/30\n",
            "633000/633000 [==============================] - 5s 8us/step - loss: 34093962972.0646 - mean_squared_error: 34093962972.0646 - mean_absolute_error: 94826.8321 - val_loss: 31038258774.2839 - val_mean_squared_error: 31038258774.2839 - val_mean_absolute_error: 89463.5043\n",
            "Epoch 3/30\n",
            "633000/633000 [==============================] - 5s 8us/step - loss: 29151625805.7722 - mean_squared_error: 29151625805.7722 - mean_absolute_error: 84572.1228 - val_loss: 26049946245.4288 - val_mean_squared_error: 26049946245.4288 - val_mean_absolute_error: 79861.9551\n",
            "Epoch 4/30\n",
            "633000/633000 [==============================] - 5s 8us/step - loss: 25768235725.1947 - mean_squared_error: 25768235725.1947 - mean_absolute_error: 80772.5906 - val_loss: 24038398099.2552 - val_mean_squared_error: 24038398099.2552 - val_mean_absolute_error: 78534.6830\n",
            "Epoch 5/30\n",
            "633000/633000 [==============================] - 5s 8us/step - loss: 24008632733.3919 - mean_squared_error: 24008632733.3919 - mean_absolute_error: 77711.3765 - val_loss: 22697908348.3509 - val_mean_squared_error: 22697908348.3509 - val_mean_absolute_error: 76742.6878\n",
            "Epoch 6/30\n",
            "633000/633000 [==============================] - 5s 8us/step - loss: 22969481415.7399 - mean_squared_error: 22969481415.7399 - mean_absolute_error: 76485.6649 - val_loss: 21781586243.1447 - val_mean_squared_error: 21781586243.1447 - val_mean_absolute_error: 74615.9055\n",
            "Epoch 7/30\n",
            "633000/633000 [==============================] - 6s 9us/step - loss: 22147503882.4471 - mean_squared_error: 22147503882.4471 - mean_absolute_error: 74785.0450 - val_loss: 21093933098.6607 - val_mean_squared_error: 21093933098.6607 - val_mean_absolute_error: 73283.5173\n",
            "Epoch 8/30\n",
            "633000/633000 [==============================] - 6s 9us/step - loss: 21464482439.9574 - mean_squared_error: 21464482439.9574 - mean_absolute_error: 73192.3125 - val_loss: 20523130783.8304 - val_mean_squared_error: 20523130783.8304 - val_mean_absolute_error: 71911.4653\n",
            "Epoch 9/30\n",
            "633000/633000 [==============================] - 5s 8us/step - loss: 20994066701.9995 - mean_squared_error: 20994066701.9995 - mean_absolute_error: 72340.5628 - val_loss: 20116909145.1262 - val_mean_squared_error: 20116909145.1262 - val_mean_absolute_error: 71573.8678\n",
            "Epoch 10/30\n",
            "633000/633000 [==============================] - 6s 9us/step - loss: 20592660060.0726 - mean_squared_error: 20592660060.0726 - mean_absolute_error: 71476.4712 - val_loss: 19776664350.1799 - val_mean_squared_error: 19776664350.1799 - val_mean_absolute_error: 70598.1047\n",
            "Epoch 11/30\n",
            "633000/633000 [==============================] - 5s 9us/step - loss: 20298548857.4629 - mean_squared_error: 20298548857.4629 - mean_absolute_error: 70984.0891 - val_loss: 19523575181.3385 - val_mean_squared_error: 19523575181.3385 - val_mean_absolute_error: 70412.1942\n",
            "Epoch 12/30\n",
            "633000/633000 [==============================] - 5s 8us/step - loss: 20051138389.4886 - mean_squared_error: 20051138389.4886 - mean_absolute_error: 70651.0038 - val_loss: 19309969852.2872 - val_mean_squared_error: 19309969852.2872 - val_mean_absolute_error: 70010.7251\n",
            "Epoch 13/30\n",
            "633000/633000 [==============================] - 6s 9us/step - loss: 19841395702.9992 - mean_squared_error: 19841395702.9992 - mean_absolute_error: 70344.4985 - val_loss: 19124223636.1951 - val_mean_squared_error: 19124223636.1951 - val_mean_absolute_error: 69835.2058\n",
            "Epoch 14/30\n",
            "633000/633000 [==============================] - 6s 9us/step - loss: 19640018712.4692 - mean_squared_error: 19640018712.4692 - mean_absolute_error: 70030.9265 - val_loss: 18940353321.6699 - val_mean_squared_error: 18940353321.6699 - val_mean_absolute_error: 69587.7919\n",
            "Epoch 15/30\n",
            "633000/633000 [==============================] - 6s 9us/step - loss: 19452221754.8420 - mean_squared_error: 19452221754.8420 - mean_absolute_error: 69728.2004 - val_loss: 18777538355.2876 - val_mean_squared_error: 18777538355.2876 - val_mean_absolute_error: 69113.4752\n",
            "Epoch 16/30\n",
            "633000/633000 [==============================] - 5s 8us/step - loss: 19281405010.6447 - mean_squared_error: 19281405010.6447 - mean_absolute_error: 69436.1756 - val_loss: 18624700154.7061 - val_mean_squared_error: 18624700154.7061 - val_mean_absolute_error: 68839.2769\n",
            "Epoch 17/30\n",
            "633000/633000 [==============================] - 6s 9us/step - loss: 19122372417.3969 - mean_squared_error: 19122372417.3969 - mean_absolute_error: 69110.9964 - val_loss: 18485544679.6443 - val_mean_squared_error: 18485544679.6443 - val_mean_absolute_error: 68374.4419\n",
            "Epoch 18/30\n",
            "633000/633000 [==============================] - 6s 9us/step - loss: 18968655563.6579 - mean_squared_error: 18968655563.6579 - mean_absolute_error: 68808.2172 - val_loss: 18356724525.6256 - val_mean_squared_error: 18356724525.6256 - val_mean_absolute_error: 68301.5266\n",
            "Epoch 19/30\n",
            "633000/633000 [==============================] - 6s 10us/step - loss: 18828261697.7528 - mean_squared_error: 18828261697.7528 - mean_absolute_error: 68540.2769 - val_loss: 18243209746.8768 - val_mean_squared_error: 18243209746.8768 - val_mean_absolute_error: 68264.1029\n",
            "Epoch 20/30\n",
            "633000/633000 [==============================] - 6s 9us/step - loss: 18700812873.6051 - mean_squared_error: 18700812873.6051 - mean_absolute_error: 68303.5116 - val_loss: 18130104301.7611 - val_mean_squared_error: 18130104301.7611 - val_mean_absolute_error: 67789.2723\n",
            "Epoch 21/30\n",
            "633000/633000 [==============================] - 6s 9us/step - loss: 18576746785.9942 - mean_squared_error: 18576746785.9942 - mean_absolute_error: 68084.7022 - val_loss: 18034918575.8593 - val_mean_squared_error: 18034918575.8593 - val_mean_absolute_error: 67730.9455\n",
            "Epoch 22/30\n",
            "633000/633000 [==============================] - 6s 9us/step - loss: 18469069109.0701 - mean_squared_error: 18469069109.0701 - mean_absolute_error: 67892.4350 - val_loss: 17945098802.3269 - val_mean_squared_error: 17945098802.3269 - val_mean_absolute_error: 67388.0795\n",
            "Epoch 23/30\n",
            "633000/633000 [==============================] - 6s 9us/step - loss: 18358745990.2330 - mean_squared_error: 18358745990.2330 - mean_absolute_error: 67679.4885 - val_loss: 17859869909.5148 - val_mean_squared_error: 17859869909.5148 - val_mean_absolute_error: 67110.5788\n",
            "Epoch 24/30\n",
            "633000/633000 [==============================] - 6s 10us/step - loss: 18257725322.0248 - mean_squared_error: 18257725322.0248 - mean_absolute_error: 67481.7825 - val_loss: 17780957412.4472 - val_mean_squared_error: 17780957412.4472 - val_mean_absolute_error: 66908.8050\n",
            "Epoch 25/30\n",
            "633000/633000 [==============================] - 6s 9us/step - loss: 18162225660.3731 - mean_squared_error: 18162225660.3731 - mean_absolute_error: 67280.9883 - val_loss: 17706813515.2356 - val_mean_squared_error: 17706813515.2356 - val_mean_absolute_error: 66804.0918\n",
            "Epoch 26/30\n",
            "633000/633000 [==============================] - 6s 10us/step - loss: 18062216620.9994 - mean_squared_error: 18062216620.9994 - mean_absolute_error: 67083.0744 - val_loss: 17633074397.8341 - val_mean_squared_error: 17633074397.8341 - val_mean_absolute_error: 66316.4183\n",
            "Epoch 27/30\n",
            "633000/633000 [==============================] - 7s 10us/step - loss: 17969539748.4935 - mean_squared_error: 17969539748.4935 - mean_absolute_error: 66869.0260 - val_loss: 17562009737.2525 - val_mean_squared_error: 17562009737.2525 - val_mean_absolute_error: 66249.8848\n",
            "Epoch 28/30\n",
            "633000/633000 [==============================] - 6s 9us/step - loss: 17875263089.6009 - mean_squared_error: 17875263089.6009 - mean_absolute_error: 66672.1718 - val_loss: 17499960638.8190 - val_mean_squared_error: 17499960638.8190 - val_mean_absolute_error: 66338.2142\n",
            "Epoch 29/30\n",
            "633000/633000 [==============================] - 6s 9us/step - loss: 17789952700.6037 - mean_squared_error: 17789952700.6037 - mean_absolute_error: 66476.2545 - val_loss: 17438108776.6776 - val_mean_squared_error: 17438108776.6776 - val_mean_absolute_error: 65832.6735\n"
          ]
        },
        {
          "name": "stdout",
          "output_type": "stream",
          "text": [
            "Epoch 30/30\n",
            "633000/633000 [==============================] - 6s 9us/step - loss: 17699286460.3222 - mean_squared_error: 17699286460.3222 - mean_absolute_error: 66270.7352 - val_loss: 17389601140.9394 - val_mean_squared_error: 17389601140.9394 - val_mean_absolute_error: 65393.6543\n"
          ]
        }
      ],
      "source": [
        "hist = model.fit(X_train, Y_train,\n",
        "          batch_size=128, epochs=30,\n",
        "          validation_data=(X_val, Y_val))"
      ]
    },
    {
      "cell_type": "code",
      "execution_count": null,
      "metadata": {
        "id": "obLv_8q3LU4H",
        "outputId": "fe129397-5448-4e67-e5d6-1c57ff8ce013"
      },
      "outputs": [
        {
          "data": {
            "text/plain": [
              "172874.90233189243"
            ]
          },
          "execution_count": 101,
          "metadata": {},
          "output_type": "execute_result"
        }
      ],
      "source": [
        "df.structuretaxvaluedollarcnt.mean()"
      ]
    },
    {
      "cell_type": "markdown",
      "metadata": {
        "id": "lCmAWGt0LU4H"
      },
      "source": [
        "# Visualizing Loss and Accuracy"
      ]
    },
    {
      "cell_type": "code",
      "execution_count": null,
      "metadata": {
        "id": "Pul7Xwc8LU4H"
      },
      "outputs": [],
      "source": [
        "import matplotlib.pyplot as plt"
      ]
    },
    {
      "cell_type": "code",
      "execution_count": null,
      "metadata": {
        "id": "9QdtyYYcLU4H",
        "outputId": "c5c6752e-ff73-4199-96c9-5d8f08556910"
      },
      "outputs": [
        {
          "data": {
            "image/png": "[encoded data removed]",
            "text/plain": [
              "<Figure size 432x288 with 1 Axes>"
            ]
          },
          "metadata": {
            "needs_background": "light"
          },
          "output_type": "display_data"
        }
      ],
      "source": [
        "plt.plot(hist.history['loss'])\n",
        "plt.plot(hist.history['val_loss'])\n",
        "plt.title('Model loss')\n",
        "plt.ylabel('Loss')\n",
        "plt.xlabel('Epoch')\n",
        "plt.legend(['Train', 'Val'], loc='upper right')\n",
        "plt.show()"
      ]
    },
    {
      "cell_type": "markdown",
      "metadata": {
        "id": "eB4YIrUaLU4I"
      },
      "source": [
        "Now we can computer performance on the test set, to see how the model performs on real data that hasn't been seen before."
      ]
    },
    {
      "cell_type": "code",
      "execution_count": null,
      "metadata": {
        "id": "lKlqP4hELU4I"
      },
      "outputs": [],
      "source": [
        "predictions = model.predict(X_test)"
      ]
    },
    {
      "cell_type": "code",
      "execution_count": null,
      "metadata": {
        "id": "UWrrvXBsLU4I",
        "outputId": "e236a9ec-4051-4665-b9e4-ad45278851c0"
      },
      "outputs": [
        {
          "name": "stdout",
          "output_type": "stream",
          "text": [
            "Requirement already satisfied: numpy in /usr/local/lib/python3.9/site-packages (1.20.2)\n",
            "\u001b[33mWARNING: You are using pip version 21.0.1; however, version 21.3.1 is available.\n",
            "You should consider upgrading via the '/usr/local/opt/python@3.9/bin/python3.9 -m pip install --upgrade pip' command.\u001b[0m\n"
          ]
        }
      ],
      "source": [
        "#!conda install numpy\n",
        "!pip3 install numpy"
      ]
    },
    {
      "cell_type": "code",
      "execution_count": null,
      "metadata": {
        "id": "ZwhJhkTwLU4I"
      },
      "outputs": [],
      "source": [
        "from sklearn.metrics import mean_absolute_error\n",
        "from sklearn.metrics import mean_squared_error\n",
        "import math\n",
        "import numpy as np"
      ]
    },
    {
      "cell_type": "code",
      "execution_count": null,
      "metadata": {
        "id": "hXp1JVrxLU4I",
        "outputId": "ac1a49ed-925b-4da2-b365-b6ebfd4b58a5"
      },
      "outputs": [
        {
          "data": {
            "text/plain": [
              "66606.8869000034"
            ]
          },
          "execution_count": 121,
          "metadata": {},
          "output_type": "execute_result"
        }
      ],
      "source": [
        "mean_absolute_error(Y_test, predictions)"
      ]
    },
    {
      "cell_type": "code",
      "execution_count": null,
      "metadata": {
        "id": "XrMTanCXLU4I",
        "outputId": "05df1916-47c2-44df-d991-ca32f2323bee"
      },
      "outputs": [
        {
          "data": {
            "text/plain": [
              "148621.3146917384"
            ]
          },
          "execution_count": 122,
          "metadata": {},
          "output_type": "execute_result"
        }
      ],
      "source": [
        "mean_squared_error(Y_test, predictions)\n",
        "math.sqrt(mean_squared_error(Y_test, predictions))"
      ]
    },
    {
      "cell_type": "code",
      "execution_count": null,
      "metadata": {
        "id": "zfGPwYQnLU4I",
        "outputId": "405a8499-a1d7-485c-9ed7-c93dd0dad0c6"
      },
      "outputs": [
        {
          "data": {
            "text/plain": [
              "174425.07187195896"
            ]
          },
          "execution_count": 123,
          "metadata": {},
          "output_type": "execute_result"
        }
      ],
      "source": [
        "np.mean(Y_test)"
      ]
    },
    {
      "cell_type": "code",
      "execution_count": null,
      "metadata": {
        "id": "5dqm9ZXyLU4I",
        "outputId": "0811a75e-258c-4c07-c26d-427de649e38a"
      },
      "outputs": [
        {
          "data": {
            "text/plain": [
              "171368.12"
            ]
          },
          "execution_count": 124,
          "metadata": {},
          "output_type": "execute_result"
        }
      ],
      "source": [
        "np.mean(predictions)"
      ]
    }
  ],
  "metadata": {
    "kernelspec": {
      "display_name": "Python 3",
      "language": "python",
      "name": "python3"
    },
    "language_info": {
      "codemirror_mode": {
        "name": "ipython",
        "version": 3
      },
      "file_extension": ".py",
      "mimetype": "text/x-python",
      "name": "python",
      "nbconvert_exporter": "python",
      "pygments_lexer": "ipython3",
      "version": "3.9.2"
    },
    "colab": {
      "provenance": []
    }
  },
  "nbformat": 4,
  "nbformat_minor": 0
}